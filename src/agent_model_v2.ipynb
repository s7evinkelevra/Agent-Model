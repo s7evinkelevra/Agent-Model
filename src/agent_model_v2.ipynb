{
 "cells": [
  {
   "cell_type": "markdown",
   "source": [
    "# Agent Model V2"
   ],
   "metadata": {}
  },
  {
   "cell_type": "markdown",
   "source": [
    "## Imports"
   ],
   "metadata": {}
  },
  {
   "cell_type": "code",
   "execution_count": 17,
   "source": [
    "import random\r\n",
    "from pprint import pprint\r\n",
    "import itertools\r\n",
    "from collections import deque\r\n",
    "import uuid\r\n",
    "import pandas as pd\r\n",
    "import numpy as np\r\n",
    "import matplotlib.pyplot as plt\r\n",
    "%matplotlib inline\r\n",
    "from matplotlib import cm\r\n",
    "from matplotlib.ticker import LinearLocator\r\n",
    "import numpy as np\r\n",
    "from Bio.Seq import Seq\r\n"
   ],
   "outputs": [],
   "metadata": {}
  },
  {
   "cell_type": "markdown",
   "source": [
    "## (Initilization) Helper Function"
   ],
   "metadata": {}
  },
  {
   "cell_type": "code",
   "execution_count": 18,
   "source": [
    "rng = np.random.default_rng();\r\n",
    "\r\n",
    "# Random base sequence of length\r\n",
    "def randomDNAseq(length):\r\n",
    "  return ''.join(random.choice('GCAT') for _ in range(length))\r\n",
    "\r\n",
    "# Random proteinogenic amino acids sequence of length \r\n",
    "def randomASseq(length):\r\n",
    "  return ''.join(random.choice('ACDEFGHIKLMNOPQRSTUVWY') for _ in range(length))\r\n",
    "\r\n",
    "# Random bitstring\r\n",
    "def randomBitseq(length):\r\n",
    "  return ''.join(random.choice('01') for _ in range(length))\r\n",
    "\r\n",
    "# Generate allele with unique id and random position in peptide space\r\n",
    "def randomPSallele(peptide_space_length):\r\n",
    "  return {\r\n",
    "    \"x\": rng.integers(low=1, high=peptide_space_length),\r\n",
    "    \"y\": rng.integers(low=1, high=peptide_space_length),\r\n",
    "    \"id\": uuid.uuid4()\r\n",
    "  }\r\n",
    "\r\n",
    "def sliding_window_iter(seq, width):\r\n",
    "  it = iter(seq)\r\n",
    "  result = tuple(itertools.islice(it, width))\r\n",
    "  if len(result) == width:\r\n",
    "    yield result\r\n",
    "  for elem in it:\r\n",
    "    result = result[1:] + (elem,)\r\n",
    "    yield result\r\n",
    "\r\n",
    "# Sliding window iterator over sequence seq and of window width of n\r\n",
    "def window(seq, n=2):\r\n",
    "    it = iter(seq)\r\n",
    "    win = deque((next(it, None) for _ in range(n)), maxlen=n)\r\n",
    "    yield win\r\n",
    "    append = win.append\r\n",
    "    for e in it:\r\n",
    "        append(e)\r\n",
    "        yield win\r\n"
   ],
   "outputs": [],
   "metadata": {}
  },
  {
   "cell_type": "markdown",
   "source": [
    "## Define Agent Params"
   ],
   "metadata": {}
  },
  {
   "cell_type": "code",
   "execution_count": 19,
   "source": [
    "peptide_space_length = 1000\r\n",
    "\r\n",
    "host_n = 100000\r\n",
    "host_allele_initial_n = 150\r\n",
    "host_allele_length = 9\r\n",
    "\r\n",
    "host_fitness_initial = 1\r\n",
    "host_fitness_increment = 0.2\r\n",
    "\r\n",
    "host_species_n = 1\r\n",
    "\r\n",
    "\r\n",
    "pathogen_n = 100000\r\n",
    "pathogen_haplotype_initial_n = 400\r\n",
    "pathogen_haplotype_length = 100\r\n",
    "\r\n",
    "pathogen_fitness_initial = 1\r\n",
    "pathogen_fitness_increment = 1\r\n",
    "\r\n",
    "pathogen_species_n = 1\r\n"
   ],
   "outputs": [],
   "metadata": {}
  },
  {
   "cell_type": "markdown",
   "source": [
    "## Initialize Host data"
   ],
   "metadata": {}
  },
  {
   "cell_type": "code",
   "execution_count": 20,
   "source": [
    "host_allele_pool = [[randomPSallele(peptide_space_length) for _ in range(host_allele_initial_n)] for _ in range(host_species_n)]\r\n",
    "\r\n",
    "\r\n",
    "def generateHost():\r\n",
    "  species = random.choice(range(host_species_n))\r\n",
    "  allele_1_data = random.choice(host_allele_pool[species])\r\n",
    "  allele_2_data = random.choice(host_allele_pool[species])\r\n",
    "  return {\r\n",
    "    \"species\": species, \r\n",
    "    \"fitness\": host_fitness_initial, \r\n",
    "    \"allele_1_id\": allele_1_data[\"id\"], \r\n",
    "    \"allele_1_x\": allele_1_data[\"x\"], \r\n",
    "    \"allele_1_y\": allele_1_data[\"y\"], \r\n",
    "    \"allele_2_id\": allele_2_data[\"id\"],\r\n",
    "    \"allele_2_x\": allele_2_data[\"x\"], \r\n",
    "    \"allele_2_y\": allele_2_data[\"y\"]\r\n",
    "    }\r\n",
    "\r\n",
    "\r\n",
    "host_data = [generateHost() for _ in range(host_n)]\r\n",
    "\r\n",
    "hosts = pd.DataFrame(host_data)\r\n"
   ],
   "outputs": [],
   "metadata": {}
  },
  {
   "cell_type": "markdown",
   "source": [
    "## Initialize Pathogen data"
   ],
   "metadata": {}
  },
  {
   "cell_type": "code",
   "execution_count": 21,
   "source": [
    "pathogen_haplotype_pool = [[randomPSallele(peptide_space_length) for _ in range(pathogen_haplotype_initial_n)] for _ in range(pathogen_species_n)]\r\n",
    "\r\n",
    "def generatePathogen():\r\n",
    "  species = random.choice(range(pathogen_species_n))\r\n",
    "  haplotype = random.choice(pathogen_haplotype_pool[species])\r\n",
    "  return {\r\n",
    "    \"species\": species,\r\n",
    "    \"fitness\": pathogen_fitness_initial,\r\n",
    "    \"haplotype_id\": haplotype[\"id\"],\r\n",
    "    \"haplotype_x\": haplotype[\"x\"],\r\n",
    "    \"haplotype_y\": haplotype[\"y\"]\r\n",
    "  }\r\n",
    "\r\n",
    "pathogen_data = [generatePathogen() for _ in range(pathogen_n)]\r\n",
    "\r\n",
    "pathogens = pd.DataFrame(pathogen_data)\r\n"
   ],
   "outputs": [],
   "metadata": {}
  },
  {
   "cell_type": "markdown",
   "source": [
    "## Sanity Checks"
   ],
   "metadata": {}
  },
  {
   "cell_type": "code",
   "execution_count": 22,
   "source": [
    "print(f'host count - {len(hosts)}')\r\n",
    "print(f'host allele count (unique) - {len(hosts.allele_1_id.unique())}')\r\n",
    "\r\n",
    "print(f'pathogen count - {len(pathogens)}')\r\n",
    "print(f'pathogen haplotype count (unique) - {len(pathogens.haplotype_id.unique())}')\r\n"
   ],
   "outputs": [
    {
     "output_type": "stream",
     "name": "stdout",
     "text": [
      "host count - 100000\n",
      "host allele count (unique) - 150\n",
      "pathogen count - 100000\n",
      "pathogen haplotype count (unique) - 400\n"
     ]
    }
   ],
   "metadata": {}
  },
  {
   "cell_type": "markdown",
   "source": [
    "## Define Simulation Params"
   ],
   "metadata": {}
  },
  {
   "cell_type": "code",
   "execution_count": 23,
   "source": [
    "sim_gen_n = 10000\r\n",
    "sim_logging_interval = 50\r\n",
    "\r\n",
    "sim_allele_subsample_n = 100\r\n",
    "\r\n"
   ],
   "outputs": [],
   "metadata": {}
  },
  {
   "cell_type": "markdown",
   "source": [
    "## Simulation Helper Functions"
   ],
   "metadata": {}
  },
  {
   "cell_type": "code",
   "execution_count": 24,
   "source": [
    "def uniqueAlleleCount():\r\n",
    "  print(\"yeee\")"
   ],
   "outputs": [],
   "metadata": {}
  },
  {
   "cell_type": "markdown",
   "source": [
    "## Simulation Loop"
   ],
   "metadata": {}
  },
  {
   "cell_type": "code",
   "execution_count": 25,
   "source": [
    "\"\"\"\r\n",
    "print(hosts[['allele_1_id', 'allele_2_id']].value_counts())\r\n",
    "print(hosts[['allele_1_id', 'allele_2_id']].values.ravel('K'))\r\n",
    "print(len(pd.unique(hosts[['allele_1_id', 'allele_2_id']].values.ravel('K'))))\r\n",
    "\r\n",
    "host_allele_all = hosts[['allele_1_id', 'allele_2_id']].values.ravel('K')\r\n",
    "unique, counts = np.unique(host_allele_all, return_counts=True)\r\n",
    "# print(np.asarray((unique,counts)).T)\r\n",
    "print(counts)\r\n",
    "plt.bar([str(i)[10:15] for i in unique], counts)\r\n",
    "\"\"\"\r\n",
    "\r\n",
    "def eucDist(x0,y0,x1,y1):\r\n",
    "  dX = x1 - x0\r\n",
    "  dY = y1 - y0\r\n",
    "  return np.sqrt(dX*dX + dY * dY)\r\n",
    "\r\n",
    "def infect(host_i, pathogen_i):\r\n",
    "  host = hosts.iloc[host_i]\r\n",
    "  pathogen = pathogens.iloc[pathogen_i]\r\n",
    "\r\n",
    "  dist1 = eucDist(host[\"allele_1_x\"], host[\"allele_1_y\"],\r\n",
    "                  pathogen[\"haplotype_x\"], pathogen[\"haplotype_y\"])\r\n",
    "  dist2 = eucDist(host[\"allele_2_x\"], host[\"allele_2_y\"],\r\n",
    "                  pathogen[\"haplotype_x\"], pathogen[\"haplotype_y\"])\r\n",
    "  min_dist = np.min([dist1, dist2])\r\n",
    "\r\n",
    "  if(min_dist < 200):\r\n",
    "    hosts.iloc[host_i][\"fitness\"] - host_fitness_increment\r\n",
    "\r\n",
    "for i in range(sim_gen_n):\r\n",
    "  # log every sim_logging_interval'th generation\r\n",
    "  if(i % sim_logging_interval == 0):\r\n",
    "    print(\"logging data\")\r\n",
    "  \r\n",
    "  # infection regieme\r\n",
    "  ## each host is infected between 1 and n times\r\n",
    "  infecting_pathogen_species = 0\r\n",
    "  for j in range(host_n):\r\n",
    "    infected_host_i = j\r\n",
    "    infecting_pathogen_i = rng.integers(pathogen_n)\r\n",
    "    infect(infected_host_i, infecting_pathogen_i)\r\n",
    "    \r\n",
    "  break\r\n",
    "\r\n",
    "  \r\n",
    "\r\n",
    "  \r\n"
   ],
   "outputs": [
    {
     "output_type": "stream",
     "name": "stdout",
     "text": [
      "logging data\n"
     ]
    }
   ],
   "metadata": {}
  },
  {
   "cell_type": "markdown",
   "source": [
    "## Calculate Detection Averages"
   ],
   "metadata": {}
  },
  {
   "cell_type": "markdown",
   "source": [
    "```python\r\n",
    "# Counts how many haplotypes include the allele in n runs\r\n",
    "def hitCount(runs, allele_length, haplotype_length, seqFunc):\r\n",
    "  hits = 0\r\n",
    "  for i in range(runs):\r\n",
    "    allele = seqFunc(allele_length)\r\n",
    "    haplotype = seqFunc(haplotype_length)\r\n",
    "    for each in window(haplotype, len(allele)):\r\n",
    "      peptide = ''.join(each)\r\n",
    "      if allele == peptide:\r\n",
    "        hits += 1\r\n",
    "        # print(peptide)\r\n",
    "        break\r\n",
    "  pprint({\r\n",
    "    \"hits\": hits,\r\n",
    "    \"allele length\": allele_length,\r\n",
    "    \"haplotype length\": haplotype_length\r\n",
    "  })\r\n",
    "  return hits/runs\r\n",
    "\r\n",
    "hitCountVec = np.vectorize(hitCount)\r\n",
    "\r\n",
    "allele_lengths = np.arange(2, 8, 1)\r\n",
    "haplotype_lengths = np.arange(100, 650, 50)\r\n",
    "\r\n",
    "\r\n",
    "#X,Y = np.meshgrid(allele_lengths, haplotype_lengths)\r\n",
    "#Z = hitCountVec(np.full((len(haplotype_lengths),len(allele_lengths)), 100000), X,Y, randomASseq)\r\n",
    "\r\n",
    "# print(hitCount(10000, lambda :randomASseq(4), lambda :randomASseq(100)))\r\n",
    "\r\n",
    "fig, ax = plt.subplots(subplot_kw={\"projection\": \"3d\"})\r\n",
    "surface = ax.plot_surface(X,Y,Z, cmap=cm.coolwarm)\r\n",
    "\r\n",
    "np.set_printoptions(formatter={'float_kind':'{:f}'.format})\r\n",
    "print(X)\r\n",
    "print(Y)\r\n",
    "print(Z)\r\n",
    "\r\n",
    "plt.show()\r\n",
    "\r\n",
    "```"
   ],
   "metadata": {}
  }
 ],
 "metadata": {
  "orig_nbformat": 4,
  "language_info": {
   "name": "python",
   "version": "3.8.11",
   "mimetype": "text/x-python",
   "codemirror_mode": {
    "name": "ipython",
    "version": 3
   },
   "pygments_lexer": "ipython3",
   "nbconvert_exporter": "python",
   "file_extension": ".py"
  },
  "kernelspec": {
   "name": "python3",
   "display_name": "Python 3.8.11 64-bit ('model': conda)"
  },
  "interpreter": {
   "hash": "a1a8be4f0428b069d579133a1f0309b01be991dc124363c4537522579b481487"
  }
 },
 "nbformat": 4,
 "nbformat_minor": 2
}