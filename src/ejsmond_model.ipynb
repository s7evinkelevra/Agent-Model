{
 "cells": [
  {
   "cell_type": "markdown",
   "source": [
    "# Agent-Based Model developed by Ejsmond 2018\r\n",
    "\r\n",
    "Port of the simulation of [Ejsmond 2018](https://www.nature.com/articles/s41467-018-06821-x) from matlab to python. Original code: [https://static-content.springer.com/esm/art%3A10.1038%2Fs41467-018-06821-x/MediaObjects/41467_2018_6821_MOESM4_ESM.txt](https://static-content.springer.com/esm/art%3A10.1038%2Fs41467-018-06821-x/MediaObjects/41467_2018_6821_MOESM4_ESM.txt)."
   ],
   "metadata": {}
  },
  {
   "cell_type": "code",
   "execution_count": 1,
   "source": [
    "import numpy as np\r\n",
    "import pandas as pd"
   ],
   "outputs": [],
   "metadata": {}
  },
  {
   "cell_type": "markdown",
   "source": [
    "## Initialize Global Model Variables"
   ],
   "metadata": {}
  },
  {
   "cell_type": "code",
   "execution_count": 354,
   "source": [
    "rng = np.random.default_rng(); # initialize RNG\r\n",
    "\r\n",
    "N = 1000  # population size\r\n",
    "n_gen = 10600  # generation number\r\n",
    "epitope_space_size = 1000 # \"epitope\" space size (1000*1000)\r\n",
    "\r\n",
    "red_queen = True # toggles co-evolution of host-parasite -> \r\n",
    "\r\n",
    "dcl_ST = True # toggle ST analysis - only plotting !not clear!\r\n",
    "isv2 = 0 # indices for saving data on pathogens and hosts !not clear!\r\n",
    "\r\n",
    "start_save = 2000  # start of saving data on host and pathogens\r\n",
    "g4sav1 = range(start_save, n_gen + 1, 10)  # plotting of ST and haplotypes\r\n"
   ],
   "outputs": [],
   "metadata": {}
  },
  {
   "cell_type": "markdown",
   "source": [
    "## Initialize Host Data"
   ],
   "metadata": {}
  },
  {
   "cell_type": "code",
   "execution_count": 240,
   "source": [
    "host_mu = 0.1 # host mutation rate\r\n",
    "# possible step directions a host can take when mutating\r\n",
    "host_mu_steps = np.matrix([\r\n",
    "    [-1, -1, -1,  0, 0, 0,  1, 1, 1],\r\n",
    "    [-1,  0,  1, -1, 0, 1, -1, 0, 1]\r\n",
    "]) \r\n",
    "\r\n",
    "host_fitness_reproduction = 1.25 # fitness of reproducing hosts\r\n",
    "host_fitness_birth = 0.25 # fitness of hosts at birth\r\n",
    "\r\n",
    "# initialize positions of allele one in epitope space (x,y)\r\n",
    "host_allele_1_start = rng.integers(low=1, high=epitope_space_size, size=(2, N)) \r\n",
    "# initialize positions of allele two in epitope space (x,y)\r\n",
    "host_allele_2_start = rng.integers(low=1, high=epitope_space_size, size=(2, N))\r\n",
    "\r\n",
    "host_allele_1 = host_allele_1_start\r\n",
    "host_allele_2 = host_allele_2_start\r\n",
    "\r\n",
    "# later used, defined here for global scope\r\n",
    "# effective number of alleles, subsample from 100 !not entirely clear!\r\n",
    "host_allele_count_effective = np.zeros((len(g4sav1))) \r\n",
    "\r\n",
    "# record values over all the generations of the simulation (vector length == number of generations)\r\n",
    "# number of dying hosts from each generation\r\n",
    "hist_host_dying = np.zeros((n_gen))\r\n",
    "# number of hosts not reproducing\r\n",
    "hist_host_not_reproducing = np.zeros((n_gen))\r\n",
    "\r\n",
    "# initial fitness for all hosts\r\n",
    "host_fitness = np.zeros((N)) + host_fitness_birth\r\n",
    "# tally for host brood\r\n",
    "host_brood_count = np.zeros((N))\r\n",
    "host_age = np.zeros((N))\r\n",
    "\r\n",
    "# Supertype start positions (x,y) !not clear!\r\n",
    "STs_1_2_start = np.matrix([range(1,N+1), range(N+1, 2*N+1)])\r\n"
   ],
   "outputs": [],
   "metadata": {}
  },
  {
   "cell_type": "markdown",
   "source": [
    "## Initialize Parasite Data"
   ],
   "metadata": {}
  },
  {
   "cell_type": "code",
   "execution_count": 432,
   "source": [
    "pat_count = 10  # number of pathogen species\r\n",
    "pat_mu = 1\r\n",
    "pat_mu_steps = np.matrix([-1, 0, 1])\r\n",
    "pat_added = 0.01  # fraction of pathogens from initial population that is added every generation to the pool from which recruits are drawn\r\n",
    "\r\n",
    "# pathogen haplotype, as x,y coordinate in the epitope space\r\n",
    "pat_haplotype_start = rng.integers(low=1, high=epitope_space_size, size=(2, N, pat_count))\r\n",
    "\r\n",
    "# record pathogen properties in g4sav1 increments\r\n",
    "g4hist_pat_haplotype_count = np.zeros((pat_count,len(g4sav1)))\r\n",
    "g4hist_pat_haplotype = np.zeros((N,len(g4sav1),2))\r\n"
   ],
   "outputs": [],
   "metadata": {}
  },
  {
   "cell_type": "code",
   "execution_count": null,
   "source": [],
   "outputs": [],
   "metadata": {}
  },
  {
   "cell_type": "code",
   "execution_count": null,
   "source": [],
   "outputs": [],
   "metadata": {}
  }
 ],
 "metadata": {
  "orig_nbformat": 4,
  "language_info": {
   "name": "python",
   "version": "3.8.8",
   "mimetype": "text/x-python",
   "codemirror_mode": {
    "name": "ipython",
    "version": 3
   },
   "pygments_lexer": "ipython3",
   "nbconvert_exporter": "python",
   "file_extension": ".py"
  },
  "kernelspec": {
   "name": "python3",
   "display_name": "Python 3.8.8 64-bit (conda)"
  },
  "interpreter": {
   "hash": "860d2b4667de70e92398596be10ad9f3e8ceed469e8d76191a6e4c4a6fcf4afd"
  }
 },
 "nbformat": 4,
 "nbformat_minor": 2
}