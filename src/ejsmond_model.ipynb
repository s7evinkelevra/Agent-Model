{
 "cells": [
  {
   "cell_type": "markdown",
   "source": [
    "# Agent-Based Model developed by Ejsmond 2018\r\n",
    "\r\n",
    "Port of the simulation of [Ejsmond 2018](https://www.nature.com/articles/s41467-018-06821-x) from matlab to python. Original code: [https://static-content.springer.com/esm/art%3A10.1038%2Fs41467-018-06821-x/MediaObjects/41467_2018_6821_MOESM4_ESM.txt](https://static-content.springer.com/esm/art%3A10.1038%2Fs41467-018-06821-x/MediaObjects/41467_2018_6821_MOESM4_ESM.txt)."
   ],
   "metadata": {}
  },
  {
   "cell_type": "code",
   "execution_count": 1,
   "source": [
    "import numpy as np\r\n",
    "import pandas as pd"
   ],
   "outputs": [],
   "metadata": {}
  },
  {
   "cell_type": "markdown",
   "source": [
    "## Initialize Global Model Variables"
   ],
   "metadata": {}
  },
  {
   "cell_type": "code",
   "execution_count": 2,
   "source": [
    "rng = np.random.default_rng(); # initialize RNG\r\n",
    "\r\n",
    "N = 1000  # population size\r\n",
    "n_gen = 10600  # generation number\r\n",
    "epitope_space_size = 1000 # \"epitope\" space size (1000*1000)\r\n",
    "\r\n",
    "red_queen = True # toggles co-evolution of host-parasite -> \r\n",
    "\r\n",
    "dcl_ST = True # toggle ST analysis - only plotting !not clear!\r\n",
    "\r\n",
    "# data for plotting is only saved every 10th generation, but instead of just going \"generation%10\", this solution was decided upon.\r\n",
    "start_save = 2000  # start of saving data on host and pathogens\r\n",
    "plotting_generations = range(start_save, n_gen + 1, 10)  # plotting of ST and haplotypes\r\n",
    "plotting_index = 0  # index for tracking the plotting data\r\n",
    "\r\n"
   ],
   "outputs": [],
   "metadata": {}
  },
  {
   "cell_type": "markdown",
   "source": [
    "## Initialize Host Data"
   ],
   "metadata": {}
  },
  {
   "cell_type": "code",
   "execution_count": 3,
   "source": [
    "host_mu = 0.1 # host mutation rate\r\n",
    "# possible step directions a host can take when mutating\r\n",
    "host_mu_steps = np.matrix([\r\n",
    "    [-1, -1, -1,  0, 0, 0,  1, 1, 1],\r\n",
    "    [-1,  0,  1, -1, 0, 1, -1, 0, 1]\r\n",
    "]) \r\n",
    "\r\n",
    "host_fitness_reproduction = 1.25 # fitness of reproducing hosts\r\n",
    "host_fitness_birth = 0.25 # fitness of hosts at birth\r\n",
    "\r\n",
    "# initialize positions of allele one in epitope space (x,y)\r\n",
    "host_allele_1_start = rng.integers(low=1, high=epitope_space_size, size=(2, N)) \r\n",
    "# initialize positions of allele two in epitope space (x,y)\r\n",
    "host_allele_2_start = rng.integers(low=1, high=epitope_space_size, size=(2, N))\r\n",
    "\r\n",
    "host_allele_1 = host_allele_1_start\r\n",
    "host_allele_2 = host_allele_2_start\r\n",
    "\r\n",
    "# later used, defined here for global scope\r\n",
    "# effective number of alleles, subsample from 100 !not entirely clear!\r\n",
    "host_allele_count_effective = np.zeros((len(plotting_generations))) \r\n",
    "\r\n",
    "# record values over all the generations of the simulation (vector length == number of generations)\r\n",
    "# number of dying hosts from each generation\r\n",
    "hist_host_dying = np.zeros((n_gen))\r\n",
    "# number of hosts not reproducing\r\n",
    "hist_host_not_reproducing = np.zeros((n_gen))\r\n",
    "\r\n",
    "# initial fitness for all hosts\r\n",
    "host_fitness = np.zeros((N)) + host_fitness_birth\r\n",
    "# tally for host brood\r\n",
    "host_brood_count = np.zeros((N))\r\n",
    "host_age = np.zeros((N))\r\n",
    "\r\n",
    "# Supertype start positions (x,y) !not clear!\r\n",
    "STs_1_2_start = np.matrix([range(1,N+1), range(N+1, 2*N+1)])\r\n"
   ],
   "outputs": [],
   "metadata": {}
  },
  {
   "cell_type": "markdown",
   "source": [
    "## Initialize Parasite Data"
   ],
   "metadata": {}
  },
  {
   "cell_type": "code",
   "execution_count": 4,
   "source": [
    "pat_count = 10  # number of pathogen species\r\n",
    "pat_mu = 1\r\n",
    "pat_mu_steps = np.matrix([-1, 0, 1])\r\n",
    "pat_added = 0.01  # fraction of pathogens from initial population that is added every generation to the pool from which recruits are drawn\r\n",
    "\r\n",
    "# pathogen haplotype, as x,y coordinate in the epitope space\r\n",
    "pat_haplotype_start = rng.integers(low=1, high=epitope_space_size, size=(2, N, pat_count))\r\n",
    "\r\n",
    "# record pathogen properties in plotting_generations increments\r\n",
    "g4hist_pat_haplotype_count = np.zeros((pat_count,len(plotting_generations)))\r\n",
    "g4hist_pat_haplotype = np.zeros((N,len(plotting_generations),2))\r\n"
   ],
   "outputs": [],
   "metadata": {}
  },
  {
   "cell_type": "markdown",
   "source": [
    "## Running the Simulation"
   ],
   "metadata": {}
  },
  {
   "cell_type": "code",
   "execution_count": 23,
   "source": [
    "for iteration in range(1,n_gen + 1):\r\n",
    "  # print iteration count for every 212th generation\r\n",
    "  #if iteration % 212 == 0:\r\n",
    "    # print(iteration)\r\n",
    "  # save data for plotting every 10th generation. Just do generations % 10?\r\n",
    "  if iteration in plotting_generations:\r\n",
    "    plotting_index += 1\r\n",
    "    # subsample 100 hosts alleles\r\n",
    "    host_allele_subsample_index = rng.integers(low=1, high=N, size=(2,100))\r\n",
    "    print(host_allele_subsample_index)\r\n",
    "    break\r\n",
    "\r\n",
    "    \r\n"
   ],
   "outputs": [
    {
     "output_type": "stream",
     "name": "stdout",
     "text": [
      "[[688 888 888 770 220 154 299 782 316 654 216 330 400 721 470 283 730 145\n",
      "  794 565 627  39 558 238 282 614 442 604 612 593 319 110 367 690 596 900\n",
      "  410 868 968 708 413 372 415 593 226 552 374 436 554 946 781 990 318 789\n",
      "  790 709 117  86 926 344 144  43 540 435 856 701 626 521 400 127 248  98\n",
      "  866 496 472 645 628 190 865 354 748 240 722 458  86 278 388 855 859 384\n",
      "  519 787 250  91 608 442 566 557 695  73]\n",
      " [827 199 325 727 953  29 440  51 607 670 717 586 485 566 204 113 160 284\n",
      "  562 481  21 399 126  85 836 418 664 671 312 533 147 656 406  25 899 257\n",
      "  857 886 213 100 860 862 908 863  15 296 767 128 159 707 862 670 326 224\n",
      "  508 914 901   6 458 564 955 222 546 657  61 912 154  66 271 267 100 467\n",
      "  105 455  66 911 914 769 105 972 535  91  71 353 397  13 125  76  53 681\n",
      "  380  28 809 231 404 407 794 962 976 817]]\n"
     ]
    }
   ],
   "metadata": {}
  }
 ],
 "metadata": {
  "orig_nbformat": 4,
  "language_info": {
   "name": "python",
   "version": "3.8.8",
   "mimetype": "text/x-python",
   "codemirror_mode": {
    "name": "ipython",
    "version": 3
   },
   "pygments_lexer": "ipython3",
   "nbconvert_exporter": "python",
   "file_extension": ".py"
  },
  "kernelspec": {
   "name": "python3",
   "display_name": "Python 3.8.8 64-bit ('base': conda)"
  },
  "interpreter": {
   "hash": "860d2b4667de70e92398596be10ad9f3e8ceed469e8d76191a6e4c4a6fcf4afd"
  }
 },
 "nbformat": 4,
 "nbformat_minor": 2
}